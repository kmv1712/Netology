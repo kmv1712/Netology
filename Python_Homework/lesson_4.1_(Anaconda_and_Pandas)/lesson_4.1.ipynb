{
 "cells": [
  {
   "cell_type": "code",
   "execution_count": 18,
   "metadata": {},
   "outputs": [
    {
     "name": "stdout",
     "output_type": "stream",
     "text": [
      "['Mary', 'Anna', 'Emma']\n"
     ]
    }
   ],
   "source": [
    "import pandas as pd\n",
    "import numpy as np\n",
    "import matplotlib.pyplot as plt\n",
    "import os\n",
    "\n",
    "def count_top3(years):\n",
    "    i = 0\n",
    "    top_name_list = []   \n",
    "    for year in years:\n",
    "        path_to_file = os.path.join(os.getcwd(), 'names/yob' + str(year) + '.txt' )\n",
    "        read_file = open(path_to_file, 'r')\n",
    "        text = read_file.read()\n",
    "        my_file = open(\"some.txt\", \"a\")\n",
    "        my_file.write(text)\n",
    "        my_file.close()\n",
    "        read_file.close()\n",
    "    path_to_file = os.path.join(os.getcwd(), \"some.txt\" )\n",
    "    names = pd.read_csv(path_to_file, names=['Name','Gender','Count'])\n",
    "    names.sort_values(by = 'Count', ascending = False)\n",
    "    names = names.get('Name')\n",
    "    top_name_list.append(names[0])\n",
    "    top_name_list.append(names[1])\n",
    "    top_name_list.append(names[2])\n",
    "    my_file = open(\"some.txt\", \"w\")\n",
    "    my_file.write('')\n",
    "    my_file.close()\n",
    "    print (top_name_list)\n",
    "        \n",
    "count_top3([1880])"
   ]
  },
  {
   "cell_type": "code",
   "execution_count": 34,
   "metadata": {},
   "outputs": [
    {
     "name": "stdout",
     "output_type": "stream",
     "text": [
      "{'F': [299810, 1713259, 1814922], 'M': [150486, 1790871, 1962744]}\n"
     ]
    }
   ],
   "source": [
    "import pandas as pd\n",
    "import numpy as np\n",
    "import matplotlib.pyplot as plt\n",
    "import os\n",
    "\n",
    "def count_dynamics(years):\n",
    "    dict_for_count_dynamics = {'F' : [], 'M': []}\n",
    "    list_count_dynamics_men = []\n",
    "    list_count_dynamics_woman = []\n",
    "    for year in years:\n",
    "        path_to_file = os.path.join(os.getcwd(), 'names/yob' + str(year) + '.txt' )\n",
    "        names = pd.read_csv(path_to_file, names=['Name','Gender','Count'])\n",
    "        count_dynamics_men = names[names.Gender == 'M'].Count.sum()\n",
    "        count_dynamics_woman = names[names.Gender == 'F'].Count.sum()\n",
    "        list_count_dynamics_men.append(count_dynamics_men)\n",
    "        list_count_dynamics_woman.append(count_dynamics_woman)          \n",
    "    dict_for_count_dynamics['F'] =   list_count_dynamics_woman\n",
    "    dict_for_count_dynamics['M'] = list_count_dynamics_men\n",
    "    print (dict_for_count_dynamics)\n",
    "\n",
    "\n",
    "count_dynamics([1900, 1950, 2000])\n"
   ]
  },
  {
   "cell_type": "code",
   "execution_count": null,
   "metadata": {},
   "outputs": [],
   "source": []
  }
 ],
 "metadata": {
  "kernelspec": {
   "display_name": "Python 3",
   "language": "python",
   "name": "python3"
  },
  "language_info": {
   "codemirror_mode": {
    "name": "ipython",
    "version": 3
   },
   "file_extension": ".py",
   "mimetype": "text/x-python",
   "name": "python",
   "nbconvert_exporter": "python",
   "pygments_lexer": "ipython3",
   "version": "3.6.3"
  }
 },
 "nbformat": 4,
 "nbformat_minor": 2
}
